{
  "nbformat": 4,
  "nbformat_minor": 0,
  "metadata": {
    "colab": {
      "provenance": []
    },
    "kernelspec": {
      "name": "python3",
      "display_name": "Python 3"
    },
    "language_info": {
      "name": "python"
    }
  },
  "cells": [
    {
      "cell_type": "code",
      "execution_count": 3,
      "metadata": {
        "id": "Tp40znnmoWwu"
      },
      "outputs": [],
      "source": [
        "import pandas as pd\n",
        "import numpy as np\n",
        "import matplotlib.pyplot as plt\n",
        "%matplotlib inline\n",
        "import sklearn\n",
        "import warnings\n",
        "warnings.filterwarnings('ignore')"
      ]
    },
    {
      "cell_type": "code",
      "source": [
        "train = pd.read_csv(\"/content/training_set_features.csv\", index_col='respondent_id')\n",
        "test = pd.read_csv(\"/content/test_set_features.csv\", index_col='respondent_id')\n",
        "labels = pd.read_csv(\"/content/training_set_labels.csv\", index_col='respondent_id')"
      ],
      "metadata": {
        "id": "wkYsI927pdPE"
      },
      "execution_count": 4,
      "outputs": []
    },
    {
      "cell_type": "code",
      "source": [
        "df_train = train.copy()\n",
        "df_test = train.copy()"
      ],
      "metadata": {
        "id": "k3AaP0Bppb4l"
      },
      "execution_count": 5,
      "outputs": []
    },
    {
      "cell_type": "code",
      "source": [
        "print(df_train.info)\n"
      ],
      "metadata": {
        "colab": {
          "base_uri": "https://localhost:8080/"
        },
        "collapsed": true,
        "id": "LNfPuD3NqFre",
        "outputId": "cbfb4146-e016-4a8a-80ad-f89ffc90a2c8"
      },
      "execution_count": 6,
      "outputs": [
        {
          "output_type": "stream",
          "name": "stdout",
          "text": [
            "<bound method DataFrame.info of                xyz_concern  xyz_knowledge  behavioral_antiviral_meds  \\\n",
            "respondent_id                                                          \n",
            "0                      1.0            0.0                        0.0   \n",
            "1                      3.0            2.0                        0.0   \n",
            "2                      1.0            1.0                        0.0   \n",
            "3                      1.0            1.0                        0.0   \n",
            "4                      2.0            1.0                        0.0   \n",
            "...                    ...            ...                        ...   \n",
            "26702                  2.0            0.0                        0.0   \n",
            "26703                  1.0            2.0                        0.0   \n",
            "26704                  2.0            2.0                        0.0   \n",
            "26705                  1.0            1.0                        0.0   \n",
            "26706                  0.0            0.0                        0.0   \n",
            "\n",
            "               behavioral_avoidance  behavioral_face_mask  \\\n",
            "respondent_id                                               \n",
            "0                               0.0                   0.0   \n",
            "1                               1.0                   0.0   \n",
            "2                               1.0                   0.0   \n",
            "3                               1.0                   0.0   \n",
            "4                               1.0                   0.0   \n",
            "...                             ...                   ...   \n",
            "26702                           1.0                   0.0   \n",
            "26703                           1.0                   0.0   \n",
            "26704                           1.0                   1.0   \n",
            "26705                           0.0                   0.0   \n",
            "26706                           1.0                   0.0   \n",
            "\n",
            "               behavioral_wash_hands  behavioral_large_gatherings  \\\n",
            "respondent_id                                                       \n",
            "0                                0.0                          0.0   \n",
            "1                                1.0                          0.0   \n",
            "2                                0.0                          0.0   \n",
            "3                                1.0                          1.0   \n",
            "4                                1.0                          1.0   \n",
            "...                              ...                          ...   \n",
            "26702                            0.0                          0.0   \n",
            "26703                            1.0                          0.0   \n",
            "26704                            1.0                          1.0   \n",
            "26705                            0.0                          0.0   \n",
            "26706                            0.0                          0.0   \n",
            "\n",
            "               behavioral_outside_home  behavioral_touch_face  \\\n",
            "respondent_id                                                   \n",
            "0                                  1.0                    1.0   \n",
            "1                                  1.0                    1.0   \n",
            "2                                  0.0                    0.0   \n",
            "3                                  0.0                    0.0   \n",
            "4                                  0.0                    1.0   \n",
            "...                                ...                    ...   \n",
            "26702                              1.0                    0.0   \n",
            "26703                              0.0                    0.0   \n",
            "26704                              0.0                    1.0   \n",
            "26705                              0.0                    NaN   \n",
            "26706                              0.0                    0.0   \n",
            "\n",
            "               doctor_recc_xyz  ...             income_poverty  \\\n",
            "respondent_id                   ...                              \n",
            "0                          0.0  ...              Below Poverty   \n",
            "1                          0.0  ...              Below Poverty   \n",
            "2                          NaN  ...  <= $75,000, Above Poverty   \n",
            "3                          0.0  ...              Below Poverty   \n",
            "4                          0.0  ...  <= $75,000, Above Poverty   \n",
            "...                        ...  ...                        ...   \n",
            "26702                      0.0  ...  <= $75,000, Above Poverty   \n",
            "26703                      1.0  ...  <= $75,000, Above Poverty   \n",
            "26704                      0.0  ...                        NaN   \n",
            "26705                      0.0  ...  <= $75,000, Above Poverty   \n",
            "26706                      0.0  ...  <= $75,000, Above Poverty   \n",
            "\n",
            "               marital_status  rent_or_own   employment_status  \\\n",
            "respondent_id                                                    \n",
            "0                 Not Married          Own  Not in Labor Force   \n",
            "1                 Not Married         Rent            Employed   \n",
            "2                 Not Married          Own            Employed   \n",
            "3                 Not Married         Rent  Not in Labor Force   \n",
            "4                     Married          Own            Employed   \n",
            "...                       ...          ...                 ...   \n",
            "26702             Not Married          Own  Not in Labor Force   \n",
            "26703             Not Married         Rent            Employed   \n",
            "26704             Not Married          Own                 NaN   \n",
            "26705                 Married         Rent            Employed   \n",
            "26706                 Married          Own  Not in Labor Force   \n",
            "\n",
            "               hhs_geo_region                census_msa  household_adults  \\\n",
            "respondent_id                                                               \n",
            "0                    oxchjgsf                   Non-MSA               0.0   \n",
            "1                    bhuqouqj  MSA, Not Principle  City               0.0   \n",
            "2                    qufhixun  MSA, Not Principle  City               2.0   \n",
            "3                    lrircsnp       MSA, Principle City               0.0   \n",
            "4                    qufhixun  MSA, Not Principle  City               1.0   \n",
            "...                       ...                       ...               ...   \n",
            "26702                qufhixun                   Non-MSA               0.0   \n",
            "26703                lzgpxyit       MSA, Principle City               1.0   \n",
            "26704                lzgpxyit  MSA, Not Principle  City               0.0   \n",
            "26705                lrircsnp                   Non-MSA               1.0   \n",
            "26706                mlyzmhmf       MSA, Principle City               1.0   \n",
            "\n",
            "               household_children  employment_industry  employment_occupation  \n",
            "respondent_id                                                                  \n",
            "0                             0.0                  NaN                    NaN  \n",
            "1                             0.0             pxcmvdjn               xgwztkwe  \n",
            "2                             0.0             rucpziij               xtkaffoo  \n",
            "3                             0.0                  NaN                    NaN  \n",
            "4                             0.0             wxleyezf               emcorrxb  \n",
            "...                           ...                  ...                    ...  \n",
            "26702                         0.0                  NaN                    NaN  \n",
            "26703                         0.0             fcxhlnwr               cmhcxjea  \n",
            "26704                         0.0                  NaN                    NaN  \n",
            "26705                         0.0             fcxhlnwr               haliazsg  \n",
            "26706                         0.0                  NaN                    NaN  \n",
            "\n",
            "[26707 rows x 35 columns]>\n"
          ]
        }
      ]
    },
    {
      "cell_type": "code",
      "source": [
        "sex_map={\n",
        "    'Female':0,\n",
        "    \"Male\":1\n",
        "}\n",
        "df_train[\"sex\"]=df_train[\"sex\"].map(sex_map)\n",
        "df_test[\"sex\"]=df_test[\"sex\"].map(sex_map)"
      ],
      "metadata": {
        "id": "FElVka9xqm19"
      },
      "execution_count": 7,
      "outputs": []
    },
    {
      "cell_type": "code",
      "source": [
        "num = df_train.select_dtypes('float64').columns\n",
        "cat = df_train.select_dtypes('object').columns\n",
        "\n",
        "df_train_num = df_train.loc[:, num]\n",
        "df_train_cat = df_train.loc[:, cat]\n",
        "\n",
        "df_test_num = df_test.loc[:, num]\n",
        "df_test_cat = df_test.loc[:, cat]"
      ],
      "metadata": {
        "id": "1pUjScDJrr2n"
      },
      "execution_count": 11,
      "outputs": []
    },
    {
      "cell_type": "code",
      "source": [
        "from sklearn.impute import SimpleImputer\n",
        "df_train_num_imputed = pd.DataFrame(SimpleImputer(missing_values=np.nan, strategy='median').fit_transform(df_train_num),\n",
        "                                            columns = df_train_num.columns)\n",
        "df_test_num_imputed = pd.DataFrame(SimpleImputer(missing_values=np.nan, strategy='median').fit_transform(df_test_num),\n",
        "                                           columns = df_test_num.columns)"
      ],
      "metadata": {
        "id": "YYhEyZIvsJrf"
      },
      "execution_count": 12,
      "outputs": []
    },
    {
      "cell_type": "code",
      "source": [
        "from sklearn.preprocessing import StandardScaler\n",
        "scaler_train = StandardScaler()\n",
        "scaler_test = StandardScaler()\n",
        "\n",
        "df_train_num_imputed = pd.DataFrame(scaler_train.fit_transform(df_train_num_imputed),\n",
        "                                    columns = df_train_num_imputed.columns)\n",
        "\n",
        "df_test_num_imputed = pd.DataFrame(scaler_test.fit_transform(df_test_num_imputed),\n",
        "                                   columns = df_test_num_imputed.columns)"
      ],
      "metadata": {
        "id": "a2Nh7DDNth7W"
      },
      "execution_count": 13,
      "outputs": []
    },
    {
      "cell_type": "code",
      "source": [
        "df_train_cat_imputed = pd.DataFrame(SimpleImputer(missing_values=np.nan, strategy='constant', fill_value = 'no_response').fit_transform(df_train_cat),\n",
        "                                            columns = df_train_cat.columns)\n",
        "df_test_cat_imputed = pd.DataFrame(SimpleImputer(missing_values=np.nan, strategy='constant', fill_value = 'no_response').fit_transform(df_test_cat),\n",
        "                                           columns = df_test_cat.columns)"
      ],
      "metadata": {
        "id": "uMhKIk2wC1lZ"
      },
      "execution_count": 14,
      "outputs": []
    },
    {
      "cell_type": "code",
      "source": [
        "df_train = pd.concat([df_train_num_imputed, df_train_cat_imputed], axis = 1)\n",
        "df_test = pd.concat([df_test_num_imputed, df_test_cat_imputed], axis = 1)"
      ],
      "metadata": {
        "id": "cCx_9HuRuH2g"
      },
      "execution_count": 21,
      "outputs": []
    },
    {
      "cell_type": "code",
      "source": [
        "dummy_columns_train = pd.get_dummies(df_train[cat])\n",
        "df_train = pd.concat((df_train, dummy_columns_train), axis=1)\n",
        "df_train = df_train.drop(df_train[cat], axis=1)\n",
        "\n",
        "dummy_columns_test = pd.get_dummies(df_test[cat])\n",
        "df_test = pd.concat((df_test, dummy_columns_test), axis=1)\n",
        "df_test = df_test.drop(df_test[cat], axis=1)"
      ],
      "metadata": {
        "id": "SC6cU4yzFWCJ"
      },
      "execution_count": 22,
      "outputs": []
    },
    {
      "cell_type": "code",
      "source": [
        "labels.columns"
      ],
      "metadata": {
        "colab": {
          "base_uri": "https://localhost:8080/"
        },
        "id": "IlWYLP7bznGs",
        "outputId": "654c20fe-2492-4587-cfc1-89bad5d42d81"
      },
      "execution_count": 23,
      "outputs": [
        {
          "output_type": "execute_result",
          "data": {
            "text/plain": [
              "Index(['xyz_vaccine', 'seasonal_vaccine'], dtype='object')"
            ]
          },
          "metadata": {},
          "execution_count": 23
        }
      ]
    },
    {
      "cell_type": "code",
      "source": [
        "X = df_train\n",
        "X_test = df_test\n",
        "y_xyz = labels['xyz_vaccine']\n",
        "y_seas = labels['seasonal_vaccine']"
      ],
      "metadata": {
        "id": "Pem3lDvauFe6"
      },
      "execution_count": 24,
      "outputs": []
    },
    {
      "cell_type": "code",
      "source": [
        "from sklearn.model_selection import train_test_split"
      ],
      "metadata": {
        "id": "wWUJxXfLuTga"
      },
      "execution_count": 25,
      "outputs": []
    },
    {
      "cell_type": "code",
      "source": [
        "X_xyz_train, X_xyz_val, y_xyz_train, y_xyz_val = train_test_split(X, y_xyz, test_size=0.30, random_state=7, shuffle=True)\n",
        "X_seas_train, X_seas_val, y_seas_train, y_seas_val = train_test_split(X, y_seas, test_size=0.30, random_state=7, shuffle=True)"
      ],
      "metadata": {
        "id": "OaemaJ50zx_-"
      },
      "execution_count": 26,
      "outputs": []
    },
    {
      "cell_type": "code",
      "source": [
        "from sklearn.linear_model import LogisticRegression\n",
        "from sklearn.metrics import roc_auc_score"
      ],
      "metadata": {
        "id": "nPcLx_wf0DFo"
      },
      "execution_count": 27,
      "outputs": []
    },
    {
      "cell_type": "code",
      "source": [
        "X_xyz_train.info()\n"
      ],
      "metadata": {
        "colab": {
          "base_uri": "https://localhost:8080/"
        },
        "id": "df2oUV5S0tis",
        "outputId": "a114095d-5483-4f5a-b970-2b0f67d5d27b"
      },
      "execution_count": 28,
      "outputs": [
        {
          "output_type": "stream",
          "name": "stdout",
          "text": [
            "<class 'pandas.core.frame.DataFrame'>\n",
            "Index: 18694 entries, 17737 to 25796\n",
            "Columns: 110 entries, xyz_concern to employment_occupation_xzmlyyjv\n",
            "dtypes: bool(87), float64(23)\n",
            "memory usage: 5.0 MB\n"
          ]
        }
      ]
    },
    {
      "cell_type": "code",
      "source": [
        "logistic_clf_xyz = LogisticRegression(max_iter=5000, random_state=7)\n",
        "logistic_clf_xyz.fit(X_xyz_train, y_xyz_train)\n",
        "y_pred = logistic_clf_xyz.predict_proba(X_xyz_val)\n",
        "print('XYZ Logistic Regression ROC AUC score: {:.3}'.format(roc_auc_score(y_xyz_val, y_pred[:, 1])))\n",
        "\n",
        "logistic_clf_seas = LogisticRegression(max_iter=5000, random_state=7)\n",
        "logistic_clf_seas.fit(X_seas_train, y_seas_train)\n",
        "y_seas_pred = logistic_clf_seas.predict_proba(X_seas_val)\n",
        "print('Seasonal Logistic Regression ROC AUC score: {:.3}'.format(roc_auc_score(y_seas_val, y_pred[:, 1])))"
      ],
      "metadata": {
        "colab": {
          "base_uri": "https://localhost:8080/"
        },
        "id": "rQWLmMlc0Ktr",
        "outputId": "1c3c80a9-9f83-4d11-a5e8-a9f295075ee6"
      },
      "execution_count": 29,
      "outputs": [
        {
          "output_type": "stream",
          "name": "stdout",
          "text": [
            "XYZ Logistic Regression ROC AUC score: 0.833\n",
            "Seasonal Logistic Regression ROC AUC score: 0.715\n"
          ]
        }
      ]
    },
    {
      "cell_type": "code",
      "source": [],
      "metadata": {
        "id": "Lgm6Y6fu0W7l"
      },
      "execution_count": 30,
      "outputs": []
    },
    {
      "cell_type": "code",
      "source": [
        "y_xyz_final = logistic_clf_xyz.predict_proba(X_test)[:, 1]\n",
        "y_seas_final = logistic_clf_seas.predict_proba(X_test)[:, 1]"
      ],
      "metadata": {
        "id": "zVDnpQ39JG6P"
      },
      "execution_count": 31,
      "outputs": []
    },
    {
      "cell_type": "code",
      "source": [
        "id_column_test = df_test.index.name = 'respondent_id'\n",
        "\n",
        "\n",
        "\n",
        "y_preds = pd.DataFrame({\n",
        "    'respondent_id': id_column_test,\n",
        "    'xyz_vaccine': y_xyz_final,\n",
        "    'seasonal_vaccine': y_seas_final\n",
        "})\n",
        "\n",
        "\n",
        "y_preds['respondent_id'] = y_preds['respondent_id']\n",
        "y_preds.set_index('respondent_id', inplace=True)\n",
        "\n",
        "\n",
        "y_preds.to_csv('submission.csv')\n"
      ],
      "metadata": {
        "id": "AnApp8OHJnCM"
      },
      "execution_count": 44,
      "outputs": []
    },
    {
      "cell_type": "code",
      "source": [
        "sub = pd.read_csv(\"submission.csv\")\n",
        "sub.head()"
      ],
      "metadata": {
        "colab": {
          "base_uri": "https://localhost:8080/",
          "height": 206
        },
        "id": "DuRjIqdMPs-t",
        "outputId": "fab1c0c1-a209-4630-ccea-cf9f2e957ac6"
      },
      "execution_count": 45,
      "outputs": [
        {
          "output_type": "execute_result",
          "data": {
            "text/plain": [
              "   respondent_id  xyz_vaccine  seasonal_vaccine\n",
              "0  respondent_id     0.028141          0.042938\n",
              "1  respondent_id     0.104680          0.110102\n",
              "2  respondent_id     0.023741          0.046209\n",
              "3  respondent_id     0.095995          0.937697\n",
              "4  respondent_id     0.038078          0.050788"
            ],
            "text/html": [
              "\n",
              "  <div id=\"df-0a0ca010-37fe-4642-8d93-e81971f9a0e8\" class=\"colab-df-container\">\n",
              "    <div>\n",
              "<style scoped>\n",
              "    .dataframe tbody tr th:only-of-type {\n",
              "        vertical-align: middle;\n",
              "    }\n",
              "\n",
              "    .dataframe tbody tr th {\n",
              "        vertical-align: top;\n",
              "    }\n",
              "\n",
              "    .dataframe thead th {\n",
              "        text-align: right;\n",
              "    }\n",
              "</style>\n",
              "<table border=\"1\" class=\"dataframe\">\n",
              "  <thead>\n",
              "    <tr style=\"text-align: right;\">\n",
              "      <th></th>\n",
              "      <th>respondent_id</th>\n",
              "      <th>xyz_vaccine</th>\n",
              "      <th>seasonal_vaccine</th>\n",
              "    </tr>\n",
              "  </thead>\n",
              "  <tbody>\n",
              "    <tr>\n",
              "      <th>0</th>\n",
              "      <td>respondent_id</td>\n",
              "      <td>0.028141</td>\n",
              "      <td>0.042938</td>\n",
              "    </tr>\n",
              "    <tr>\n",
              "      <th>1</th>\n",
              "      <td>respondent_id</td>\n",
              "      <td>0.104680</td>\n",
              "      <td>0.110102</td>\n",
              "    </tr>\n",
              "    <tr>\n",
              "      <th>2</th>\n",
              "      <td>respondent_id</td>\n",
              "      <td>0.023741</td>\n",
              "      <td>0.046209</td>\n",
              "    </tr>\n",
              "    <tr>\n",
              "      <th>3</th>\n",
              "      <td>respondent_id</td>\n",
              "      <td>0.095995</td>\n",
              "      <td>0.937697</td>\n",
              "    </tr>\n",
              "    <tr>\n",
              "      <th>4</th>\n",
              "      <td>respondent_id</td>\n",
              "      <td>0.038078</td>\n",
              "      <td>0.050788</td>\n",
              "    </tr>\n",
              "  </tbody>\n",
              "</table>\n",
              "</div>\n",
              "    <div class=\"colab-df-buttons\">\n",
              "\n",
              "  <div class=\"colab-df-container\">\n",
              "    <button class=\"colab-df-convert\" onclick=\"convertToInteractive('df-0a0ca010-37fe-4642-8d93-e81971f9a0e8')\"\n",
              "            title=\"Convert this dataframe to an interactive table.\"\n",
              "            style=\"display:none;\">\n",
              "\n",
              "  <svg xmlns=\"http://www.w3.org/2000/svg\" height=\"24px\" viewBox=\"0 -960 960 960\">\n",
              "    <path d=\"M120-120v-720h720v720H120Zm60-500h600v-160H180v160Zm220 220h160v-160H400v160Zm0 220h160v-160H400v160ZM180-400h160v-160H180v160Zm440 0h160v-160H620v160ZM180-180h160v-160H180v160Zm440 0h160v-160H620v160Z\"/>\n",
              "  </svg>\n",
              "    </button>\n",
              "\n",
              "  <style>\n",
              "    .colab-df-container {\n",
              "      display:flex;\n",
              "      gap: 12px;\n",
              "    }\n",
              "\n",
              "    .colab-df-convert {\n",
              "      background-color: #E8F0FE;\n",
              "      border: none;\n",
              "      border-radius: 50%;\n",
              "      cursor: pointer;\n",
              "      display: none;\n",
              "      fill: #1967D2;\n",
              "      height: 32px;\n",
              "      padding: 0 0 0 0;\n",
              "      width: 32px;\n",
              "    }\n",
              "\n",
              "    .colab-df-convert:hover {\n",
              "      background-color: #E2EBFA;\n",
              "      box-shadow: 0px 1px 2px rgba(60, 64, 67, 0.3), 0px 1px 3px 1px rgba(60, 64, 67, 0.15);\n",
              "      fill: #174EA6;\n",
              "    }\n",
              "\n",
              "    .colab-df-buttons div {\n",
              "      margin-bottom: 4px;\n",
              "    }\n",
              "\n",
              "    [theme=dark] .colab-df-convert {\n",
              "      background-color: #3B4455;\n",
              "      fill: #D2E3FC;\n",
              "    }\n",
              "\n",
              "    [theme=dark] .colab-df-convert:hover {\n",
              "      background-color: #434B5C;\n",
              "      box-shadow: 0px 1px 3px 1px rgba(0, 0, 0, 0.15);\n",
              "      filter: drop-shadow(0px 1px 2px rgba(0, 0, 0, 0.3));\n",
              "      fill: #FFFFFF;\n",
              "    }\n",
              "  </style>\n",
              "\n",
              "    <script>\n",
              "      const buttonEl =\n",
              "        document.querySelector('#df-0a0ca010-37fe-4642-8d93-e81971f9a0e8 button.colab-df-convert');\n",
              "      buttonEl.style.display =\n",
              "        google.colab.kernel.accessAllowed ? 'block' : 'none';\n",
              "\n",
              "      async function convertToInteractive(key) {\n",
              "        const element = document.querySelector('#df-0a0ca010-37fe-4642-8d93-e81971f9a0e8');\n",
              "        const dataTable =\n",
              "          await google.colab.kernel.invokeFunction('convertToInteractive',\n",
              "                                                    [key], {});\n",
              "        if (!dataTable) return;\n",
              "\n",
              "        const docLinkHtml = 'Like what you see? Visit the ' +\n",
              "          '<a target=\"_blank\" href=https://colab.research.google.com/notebooks/data_table.ipynb>data table notebook</a>'\n",
              "          + ' to learn more about interactive tables.';\n",
              "        element.innerHTML = '';\n",
              "        dataTable['output_type'] = 'display_data';\n",
              "        await google.colab.output.renderOutput(dataTable, element);\n",
              "        const docLink = document.createElement('div');\n",
              "        docLink.innerHTML = docLinkHtml;\n",
              "        element.appendChild(docLink);\n",
              "      }\n",
              "    </script>\n",
              "  </div>\n",
              "\n",
              "\n",
              "<div id=\"df-c7288348-f59d-4ccb-9979-f870d1b8f5ed\">\n",
              "  <button class=\"colab-df-quickchart\" onclick=\"quickchart('df-c7288348-f59d-4ccb-9979-f870d1b8f5ed')\"\n",
              "            title=\"Suggest charts\"\n",
              "            style=\"display:none;\">\n",
              "\n",
              "<svg xmlns=\"http://www.w3.org/2000/svg\" height=\"24px\"viewBox=\"0 0 24 24\"\n",
              "     width=\"24px\">\n",
              "    <g>\n",
              "        <path d=\"M19 3H5c-1.1 0-2 .9-2 2v14c0 1.1.9 2 2 2h14c1.1 0 2-.9 2-2V5c0-1.1-.9-2-2-2zM9 17H7v-7h2v7zm4 0h-2V7h2v10zm4 0h-2v-4h2v4z\"/>\n",
              "    </g>\n",
              "</svg>\n",
              "  </button>\n",
              "\n",
              "<style>\n",
              "  .colab-df-quickchart {\n",
              "      --bg-color: #E8F0FE;\n",
              "      --fill-color: #1967D2;\n",
              "      --hover-bg-color: #E2EBFA;\n",
              "      --hover-fill-color: #174EA6;\n",
              "      --disabled-fill-color: #AAA;\n",
              "      --disabled-bg-color: #DDD;\n",
              "  }\n",
              "\n",
              "  [theme=dark] .colab-df-quickchart {\n",
              "      --bg-color: #3B4455;\n",
              "      --fill-color: #D2E3FC;\n",
              "      --hover-bg-color: #434B5C;\n",
              "      --hover-fill-color: #FFFFFF;\n",
              "      --disabled-bg-color: #3B4455;\n",
              "      --disabled-fill-color: #666;\n",
              "  }\n",
              "\n",
              "  .colab-df-quickchart {\n",
              "    background-color: var(--bg-color);\n",
              "    border: none;\n",
              "    border-radius: 50%;\n",
              "    cursor: pointer;\n",
              "    display: none;\n",
              "    fill: var(--fill-color);\n",
              "    height: 32px;\n",
              "    padding: 0;\n",
              "    width: 32px;\n",
              "  }\n",
              "\n",
              "  .colab-df-quickchart:hover {\n",
              "    background-color: var(--hover-bg-color);\n",
              "    box-shadow: 0 1px 2px rgba(60, 64, 67, 0.3), 0 1px 3px 1px rgba(60, 64, 67, 0.15);\n",
              "    fill: var(--button-hover-fill-color);\n",
              "  }\n",
              "\n",
              "  .colab-df-quickchart-complete:disabled,\n",
              "  .colab-df-quickchart-complete:disabled:hover {\n",
              "    background-color: var(--disabled-bg-color);\n",
              "    fill: var(--disabled-fill-color);\n",
              "    box-shadow: none;\n",
              "  }\n",
              "\n",
              "  .colab-df-spinner {\n",
              "    border: 2px solid var(--fill-color);\n",
              "    border-color: transparent;\n",
              "    border-bottom-color: var(--fill-color);\n",
              "    animation:\n",
              "      spin 1s steps(1) infinite;\n",
              "  }\n",
              "\n",
              "  @keyframes spin {\n",
              "    0% {\n",
              "      border-color: transparent;\n",
              "      border-bottom-color: var(--fill-color);\n",
              "      border-left-color: var(--fill-color);\n",
              "    }\n",
              "    20% {\n",
              "      border-color: transparent;\n",
              "      border-left-color: var(--fill-color);\n",
              "      border-top-color: var(--fill-color);\n",
              "    }\n",
              "    30% {\n",
              "      border-color: transparent;\n",
              "      border-left-color: var(--fill-color);\n",
              "      border-top-color: var(--fill-color);\n",
              "      border-right-color: var(--fill-color);\n",
              "    }\n",
              "    40% {\n",
              "      border-color: transparent;\n",
              "      border-right-color: var(--fill-color);\n",
              "      border-top-color: var(--fill-color);\n",
              "    }\n",
              "    60% {\n",
              "      border-color: transparent;\n",
              "      border-right-color: var(--fill-color);\n",
              "    }\n",
              "    80% {\n",
              "      border-color: transparent;\n",
              "      border-right-color: var(--fill-color);\n",
              "      border-bottom-color: var(--fill-color);\n",
              "    }\n",
              "    90% {\n",
              "      border-color: transparent;\n",
              "      border-bottom-color: var(--fill-color);\n",
              "    }\n",
              "  }\n",
              "</style>\n",
              "\n",
              "  <script>\n",
              "    async function quickchart(key) {\n",
              "      const quickchartButtonEl =\n",
              "        document.querySelector('#' + key + ' button');\n",
              "      quickchartButtonEl.disabled = true;  // To prevent multiple clicks.\n",
              "      quickchartButtonEl.classList.add('colab-df-spinner');\n",
              "      try {\n",
              "        const charts = await google.colab.kernel.invokeFunction(\n",
              "            'suggestCharts', [key], {});\n",
              "      } catch (error) {\n",
              "        console.error('Error during call to suggestCharts:', error);\n",
              "      }\n",
              "      quickchartButtonEl.classList.remove('colab-df-spinner');\n",
              "      quickchartButtonEl.classList.add('colab-df-quickchart-complete');\n",
              "    }\n",
              "    (() => {\n",
              "      let quickchartButtonEl =\n",
              "        document.querySelector('#df-c7288348-f59d-4ccb-9979-f870d1b8f5ed button');\n",
              "      quickchartButtonEl.style.display =\n",
              "        google.colab.kernel.accessAllowed ? 'block' : 'none';\n",
              "    })();\n",
              "  </script>\n",
              "</div>\n",
              "\n",
              "    </div>\n",
              "  </div>\n"
            ],
            "application/vnd.google.colaboratory.intrinsic+json": {
              "type": "dataframe",
              "variable_name": "sub",
              "summary": "{\n  \"name\": \"sub\",\n  \"rows\": 26707,\n  \"fields\": [\n    {\n      \"column\": \"respondent_id\",\n      \"properties\": {\n        \"dtype\": \"category\",\n        \"num_unique_values\": 1,\n        \"samples\": [\n          \"respondent_id\"\n        ],\n        \"semantic_type\": \"\",\n        \"description\": \"\"\n      }\n    },\n    {\n      \"column\": \"xyz_vaccine\",\n      \"properties\": {\n        \"dtype\": \"number\",\n        \"std\": 0.22320792968281358,\n        \"min\": 0.0015610780201947,\n        \"max\": 0.9857978867521088,\n        \"num_unique_values\": 26705,\n        \"samples\": [\n          0.1221257976798851\n        ],\n        \"semantic_type\": \"\",\n        \"description\": \"\"\n      }\n    },\n    {\n      \"column\": \"seasonal_vaccine\",\n      \"properties\": {\n        \"dtype\": \"number\",\n        \"std\": 0.30726640599592875,\n        \"min\": 0.0017825773778627,\n        \"max\": 0.9982394398566188,\n        \"num_unique_values\": 26705,\n        \"samples\": [\n          0.8294707712131323\n        ],\n        \"semantic_type\": \"\",\n        \"description\": \"\"\n      }\n    }\n  ]\n}"
            }
          },
          "metadata": {},
          "execution_count": 45
        }
      ]
    },
    {
      "cell_type": "code",
      "source": [],
      "metadata": {
        "id": "H1Tj55OKQpW6"
      },
      "execution_count": null,
      "outputs": []
    }
  ]
}